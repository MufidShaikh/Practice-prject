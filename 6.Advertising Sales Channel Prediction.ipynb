{
 "cells": [
  {
   "cell_type": "markdown",
   "id": "e0e60f55",
   "metadata": {},
   "source": [
    "Advertising Sales Channel Prediction\n",
    "\n",
    "Problem Statement:\n",
    "\n",
    "Sales Channel Prediction Case Study  \n",
    "\n",
    "When a company enters a market, the distribution strategy and channel it uses are keys to its success in the market, as well as market know-how and customer knowledge and understanding. Because an effective distribution strategy under efficient supply-chain management opens doors for attaining competitive advantage and strong brand equity in the market, it is a component of the marketing mix that cannot be ignored . \n",
    "\n",
    "The distribution strategy and the channel design have to be right the first time. The case study of Sales channel includes the detailed study of TV, radio and newspaper channel. The predict the total sales generated from all the sales channel.  \n",
    "\n",
    "The below link provided is for downloading the dataset. \n",
    "Downlaod Files:\n",
    "\n",
    "    https://github.com/dsrscientist/DSData/blob/master/Advertising.csv"
   ]
  },
  {
   "cell_type": "code",
   "execution_count": 1,
   "id": "78cc2cfc",
   "metadata": {},
   "outputs": [],
   "source": [
    "import numpy as np\n",
    "import matplotlib.pyplot as plt\n",
    "import seaborn as sns\n",
    "import warnings\n",
    "warnings.filterwarnings('ignore')\n",
    "import pandas as pd"
   ]
  },
  {
   "cell_type": "code",
   "execution_count": 2,
   "id": "413d1332",
   "metadata": {},
   "outputs": [
    {
     "data": {
      "text/html": [
       "<div>\n",
       "<style scoped>\n",
       "    .dataframe tbody tr th:only-of-type {\n",
       "        vertical-align: middle;\n",
       "    }\n",
       "\n",
       "    .dataframe tbody tr th {\n",
       "        vertical-align: top;\n",
       "    }\n",
       "\n",
       "    .dataframe thead th {\n",
       "        text-align: right;\n",
       "    }\n",
       "</style>\n",
       "<table border=\"1\" class=\"dataframe\">\n",
       "  <thead>\n",
       "    <tr style=\"text-align: right;\">\n",
       "      <th></th>\n",
       "      <th>S.No.</th>\n",
       "      <th>TV</th>\n",
       "      <th>radio</th>\n",
       "      <th>newspaper</th>\n",
       "      <th>sales</th>\n",
       "    </tr>\n",
       "  </thead>\n",
       "  <tbody>\n",
       "    <tr>\n",
       "      <th>0</th>\n",
       "      <td>1</td>\n",
       "      <td>230.1</td>\n",
       "      <td>37.8</td>\n",
       "      <td>69.2</td>\n",
       "      <td>22.1</td>\n",
       "    </tr>\n",
       "    <tr>\n",
       "      <th>1</th>\n",
       "      <td>2</td>\n",
       "      <td>44.5</td>\n",
       "      <td>39.3</td>\n",
       "      <td>45.1</td>\n",
       "      <td>10.4</td>\n",
       "    </tr>\n",
       "    <tr>\n",
       "      <th>2</th>\n",
       "      <td>3</td>\n",
       "      <td>17.2</td>\n",
       "      <td>45.9</td>\n",
       "      <td>69.3</td>\n",
       "      <td>9.3</td>\n",
       "    </tr>\n",
       "    <tr>\n",
       "      <th>3</th>\n",
       "      <td>4</td>\n",
       "      <td>151.5</td>\n",
       "      <td>41.3</td>\n",
       "      <td>58.5</td>\n",
       "      <td>18.5</td>\n",
       "    </tr>\n",
       "    <tr>\n",
       "      <th>4</th>\n",
       "      <td>5</td>\n",
       "      <td>180.8</td>\n",
       "      <td>10.8</td>\n",
       "      <td>58.4</td>\n",
       "      <td>12.9</td>\n",
       "    </tr>\n",
       "    <tr>\n",
       "      <th>...</th>\n",
       "      <td>...</td>\n",
       "      <td>...</td>\n",
       "      <td>...</td>\n",
       "      <td>...</td>\n",
       "      <td>...</td>\n",
       "    </tr>\n",
       "    <tr>\n",
       "      <th>195</th>\n",
       "      <td>196</td>\n",
       "      <td>38.2</td>\n",
       "      <td>3.7</td>\n",
       "      <td>13.8</td>\n",
       "      <td>7.6</td>\n",
       "    </tr>\n",
       "    <tr>\n",
       "      <th>196</th>\n",
       "      <td>197</td>\n",
       "      <td>94.2</td>\n",
       "      <td>4.9</td>\n",
       "      <td>8.1</td>\n",
       "      <td>9.7</td>\n",
       "    </tr>\n",
       "    <tr>\n",
       "      <th>197</th>\n",
       "      <td>198</td>\n",
       "      <td>177.0</td>\n",
       "      <td>9.3</td>\n",
       "      <td>6.4</td>\n",
       "      <td>12.8</td>\n",
       "    </tr>\n",
       "    <tr>\n",
       "      <th>198</th>\n",
       "      <td>199</td>\n",
       "      <td>283.6</td>\n",
       "      <td>42.0</td>\n",
       "      <td>66.2</td>\n",
       "      <td>25.5</td>\n",
       "    </tr>\n",
       "    <tr>\n",
       "      <th>199</th>\n",
       "      <td>200</td>\n",
       "      <td>232.1</td>\n",
       "      <td>8.6</td>\n",
       "      <td>8.7</td>\n",
       "      <td>13.4</td>\n",
       "    </tr>\n",
       "  </tbody>\n",
       "</table>\n",
       "<p>200 rows × 5 columns</p>\n",
       "</div>"
      ],
      "text/plain": [
       "     S.No.     TV  radio  newspaper  sales\n",
       "0        1  230.1   37.8       69.2   22.1\n",
       "1        2   44.5   39.3       45.1   10.4\n",
       "2        3   17.2   45.9       69.3    9.3\n",
       "3        4  151.5   41.3       58.5   18.5\n",
       "4        5  180.8   10.8       58.4   12.9\n",
       "..     ...    ...    ...        ...    ...\n",
       "195    196   38.2    3.7       13.8    7.6\n",
       "196    197   94.2    4.9        8.1    9.7\n",
       "197    198  177.0    9.3        6.4   12.8\n",
       "198    199  283.6   42.0       66.2   25.5\n",
       "199    200  232.1    8.6        8.7   13.4\n",
       "\n",
       "[200 rows x 5 columns]"
      ]
     },
     "execution_count": 2,
     "metadata": {},
     "output_type": "execute_result"
    }
   ],
   "source": [
    "df=pd.read_csv('Advertising.csv')\n",
    "df"
   ]
  },
  {
   "cell_type": "code",
   "execution_count": 3,
   "id": "58939108",
   "metadata": {},
   "outputs": [
    {
     "data": {
      "text/plain": [
       "S.No.        0\n",
       "TV           0\n",
       "radio        0\n",
       "newspaper    0\n",
       "sales        0\n",
       "dtype: int64"
      ]
     },
     "execution_count": 3,
     "metadata": {},
     "output_type": "execute_result"
    }
   ],
   "source": [
    "df=df.replace(' ',np.nan)\n",
    "df.isnull().sum()"
   ]
  },
  {
   "cell_type": "code",
   "execution_count": 4,
   "id": "04b0dd7c",
   "metadata": {},
   "outputs": [
    {
     "data": {
      "image/png": "[encoded data removed]",
      "text/plain": [
       "<Figure size 432x288 with 2 Axes>"
      ]
     },
     "metadata": {
      "needs_background": "light"
     },
     "output_type": "display_data"
    }
   ],
   "source": [
    "sns.heatmap(df.isnull())\n",
    "plt.title('Null values')\n",
    "plt.show()"
   ]
  },
  {
   "cell_type": "code",
   "execution_count": 5,
   "id": "5bf56523",
   "metadata": {},
   "outputs": [
    {
     "name": "stdout",
     "output_type": "stream",
     "text": [
      "<class 'pandas.core.frame.DataFrame'>\n",
      "RangeIndex: 200 entries, 0 to 199\n",
      "Data columns (total 5 columns):\n",
      " #   Column     Non-Null Count  Dtype  \n",
      "---  ------     --------------  -----  \n",
      " 0   S.No.      200 non-null    int64  \n",
      " 1   TV         200 non-null    float64\n",
      " 2   radio      200 non-null    float64\n",
      " 3   newspaper  200 non-null    float64\n",
      " 4   sales      200 non-null    float64\n",
      "dtypes: float64(4), int64(1)\n",
      "memory usage: 7.9 KB\n"
     ]
    }
   ],
   "source": [
    "df.info()"
   ]
  },
  {
   "cell_type": "code",
   "execution_count": 6,
   "id": "a24ffa00",
   "metadata": {},
   "outputs": [
    {
     "data": {
      "text/html": [
       "<div>\n",
       "<style scoped>\n",
       "    .dataframe tbody tr th:only-of-type {\n",
       "        vertical-align: middle;\n",
       "    }\n",
       "\n",
       "    .dataframe tbody tr th {\n",
       "        vertical-align: top;\n",
       "    }\n",
       "\n",
       "    .dataframe thead th {\n",
       "        text-align: right;\n",
       "    }\n",
       "</style>\n",
       "<table border=\"1\" class=\"dataframe\">\n",
       "  <thead>\n",
       "    <tr style=\"text-align: right;\">\n",
       "      <th></th>\n",
       "      <th>S.No.</th>\n",
       "      <th>TV</th>\n",
       "      <th>radio</th>\n",
       "      <th>newspaper</th>\n",
       "      <th>sales</th>\n",
       "    </tr>\n",
       "  </thead>\n",
       "  <tbody>\n",
       "    <tr>\n",
       "      <th>count</th>\n",
       "      <td>200.000000</td>\n",
       "      <td>200.000000</td>\n",
       "      <td>200.000000</td>\n",
       "      <td>200.000000</td>\n",
       "      <td>200.000000</td>\n",
       "    </tr>\n",
       "    <tr>\n",
       "      <th>mean</th>\n",
       "      <td>100.500000</td>\n",
       "      <td>147.042500</td>\n",
       "      <td>23.264000</td>\n",
       "      <td>30.554000</td>\n",
       "      <td>14.022500</td>\n",
       "    </tr>\n",
       "    <tr>\n",
       "      <th>std</th>\n",
       "      <td>57.879185</td>\n",
       "      <td>85.854236</td>\n",
       "      <td>14.846809</td>\n",
       "      <td>21.778621</td>\n",
       "      <td>5.217457</td>\n",
       "    </tr>\n",
       "    <tr>\n",
       "      <th>min</th>\n",
       "      <td>1.000000</td>\n",
       "      <td>0.700000</td>\n",
       "      <td>0.000000</td>\n",
       "      <td>0.300000</td>\n",
       "      <td>1.600000</td>\n",
       "    </tr>\n",
       "    <tr>\n",
       "      <th>25%</th>\n",
       "      <td>50.750000</td>\n",
       "      <td>74.375000</td>\n",
       "      <td>9.975000</td>\n",
       "      <td>12.750000</td>\n",
       "      <td>10.375000</td>\n",
       "    </tr>\n",
       "    <tr>\n",
       "      <th>50%</th>\n",
       "      <td>100.500000</td>\n",
       "      <td>149.750000</td>\n",
       "      <td>22.900000</td>\n",
       "      <td>25.750000</td>\n",
       "      <td>12.900000</td>\n",
       "    </tr>\n",
       "    <tr>\n",
       "      <th>75%</th>\n",
       "      <td>150.250000</td>\n",
       "      <td>218.825000</td>\n",
       "      <td>36.525000</td>\n",
       "      <td>45.100000</td>\n",
       "      <td>17.400000</td>\n",
       "    </tr>\n",
       "    <tr>\n",
       "      <th>max</th>\n",
       "      <td>200.000000</td>\n",
       "      <td>296.400000</td>\n",
       "      <td>49.600000</td>\n",
       "      <td>114.000000</td>\n",
       "      <td>27.000000</td>\n",
       "    </tr>\n",
       "  </tbody>\n",
       "</table>\n",
       "</div>"
      ],
      "text/plain": [
       "            S.No.          TV       radio   newspaper       sales\n",
       "count  200.000000  200.000000  200.000000  200.000000  200.000000\n",
       "mean   100.500000  147.042500   23.264000   30.554000   14.022500\n",
       "std     57.879185   85.854236   14.846809   21.778621    5.217457\n",
       "min      1.000000    0.700000    0.000000    0.300000    1.600000\n",
       "25%     50.750000   74.375000    9.975000   12.750000   10.375000\n",
       "50%    100.500000  149.750000   22.900000   25.750000   12.900000\n",
       "75%    150.250000  218.825000   36.525000   45.100000   17.400000\n",
       "max    200.000000  296.400000   49.600000  114.000000   27.000000"
      ]
     },
     "execution_count": 6,
     "metadata": {},
     "output_type": "execute_result"
    }
   ],
   "source": [
    "df.describe()"
   ]
  },
  {
   "cell_type": "code",
   "execution_count": 7,
   "id": "63643ce8",
   "metadata": {},
   "outputs": [
    {
     "data": {
      "text/plain": [
       "Index(['S.No.', 'TV', 'radio', 'newspaper', 'sales'], dtype='object')"
      ]
     },
     "execution_count": 7,
     "metadata": {},
     "output_type": "execute_result"
    }
   ],
   "source": [
    "df.columns"
   ]
  },
  {
   "cell_type": "code",
   "execution_count": 8,
   "id": "3cdcd692",
   "metadata": {},
   "outputs": [
    {
     "data": {
      "text/plain": [
       "S.No.          int64\n",
       "TV           float64\n",
       "radio        float64\n",
       "newspaper    float64\n",
       "sales        float64\n",
       "dtype: object"
      ]
     },
     "execution_count": 8,
     "metadata": {},
     "output_type": "execute_result"
    }
   ],
   "source": [
    "df.dtypes"
   ]
  },
  {
   "cell_type": "code",
   "execution_count": 9,
   "id": "2093fa73",
   "metadata": {},
   "outputs": [
    {
     "data": {
      "text/plain": [
       "<AxesSubplot:>"
      ]
     },
     "execution_count": 9,
     "metadata": {},
     "output_type": "execute_result"
    },
    {
     "data": {
      "image/png": "[encoded data removed]",
      "text/plain": [
       "<Figure size 792x504 with 2 Axes>"
      ]
     },
     "metadata": {
      "needs_background": "light"
     },
     "output_type": "display_data"
    }
   ],
   "source": [
    "plt.figure(figsize=(11,7))\n",
    "sns.heatmap(df.describe(),annot=True,linewidths=0.1,linecolor='black',fmt='0.2f')"
   ]
  },
  {
   "cell_type": "code",
   "execution_count": 10,
   "id": "06fdfbbb",
   "metadata": {},
   "outputs": [
    {
     "data": {
      "text/html": [
       "<div>\n",
       "<style scoped>\n",
       "    .dataframe tbody tr th:only-of-type {\n",
       "        vertical-align: middle;\n",
       "    }\n",
       "\n",
       "    .dataframe tbody tr th {\n",
       "        vertical-align: top;\n",
       "    }\n",
       "\n",
       "    .dataframe thead th {\n",
       "        text-align: right;\n",
       "    }\n",
       "</style>\n",
       "<table border=\"1\" class=\"dataframe\">\n",
       "  <thead>\n",
       "    <tr style=\"text-align: right;\">\n",
       "      <th></th>\n",
       "      <th>S.No.</th>\n",
       "      <th>TV</th>\n",
       "      <th>radio</th>\n",
       "      <th>newspaper</th>\n",
       "      <th>sales</th>\n",
       "    </tr>\n",
       "  </thead>\n",
       "  <tbody>\n",
       "    <tr>\n",
       "      <th>S.No.</th>\n",
       "      <td>1.000000</td>\n",
       "      <td>0.017715</td>\n",
       "      <td>-0.110680</td>\n",
       "      <td>-0.154944</td>\n",
       "      <td>-0.051616</td>\n",
       "    </tr>\n",
       "    <tr>\n",
       "      <th>TV</th>\n",
       "      <td>0.017715</td>\n",
       "      <td>1.000000</td>\n",
       "      <td>0.054809</td>\n",
       "      <td>0.056648</td>\n",
       "      <td>0.782224</td>\n",
       "    </tr>\n",
       "    <tr>\n",
       "      <th>radio</th>\n",
       "      <td>-0.110680</td>\n",
       "      <td>0.054809</td>\n",
       "      <td>1.000000</td>\n",
       "      <td>0.354104</td>\n",
       "      <td>0.576223</td>\n",
       "    </tr>\n",
       "    <tr>\n",
       "      <th>newspaper</th>\n",
       "      <td>-0.154944</td>\n",
       "      <td>0.056648</td>\n",
       "      <td>0.354104</td>\n",
       "      <td>1.000000</td>\n",
       "      <td>0.228299</td>\n",
       "    </tr>\n",
       "    <tr>\n",
       "      <th>sales</th>\n",
       "      <td>-0.051616</td>\n",
       "      <td>0.782224</td>\n",
       "      <td>0.576223</td>\n",
       "      <td>0.228299</td>\n",
       "      <td>1.000000</td>\n",
       "    </tr>\n",
       "  </tbody>\n",
       "</table>\n",
       "</div>"
      ],
      "text/plain": [
       "              S.No.        TV     radio  newspaper     sales\n",
       "S.No.      1.000000  0.017715 -0.110680  -0.154944 -0.051616\n",
       "TV         0.017715  1.000000  0.054809   0.056648  0.782224\n",
       "radio     -0.110680  0.054809  1.000000   0.354104  0.576223\n",
       "newspaper -0.154944  0.056648  0.354104   1.000000  0.228299\n",
       "sales     -0.051616  0.782224  0.576223   0.228299  1.000000"
      ]
     },
     "execution_count": 10,
     "metadata": {},
     "output_type": "execute_result"
    }
   ],
   "source": [
    "df.corr()"
   ]
  },
  {
   "cell_type": "code",
   "execution_count": 11,
   "id": "3de98f2c",
   "metadata": {},
   "outputs": [
    {
     "data": {
      "image/png": "[encoded data removed]",
      "text/plain": [
       "<Figure size 792x504 with 2 Axes>"
      ]
     },
     "metadata": {
      "needs_background": "light"
     },
     "output_type": "display_data"
    }
   ],
   "source": [
    "corr_mat=df.corr()\n",
    "plt.figure(figsize=[11,7])\n",
    "sns.heatmap(corr_mat,annot=True)\n",
    "plt.title('Correlation Matrix')\n",
    "plt.show()"
   ]
  },
  {
   "cell_type": "code",
   "execution_count": 12,
   "id": "fe570514",
   "metadata": {},
   "outputs": [
    {
     "data": {
      "text/plain": [
       "S.No.       -0.051616\n",
       "newspaper    0.228299\n",
       "radio        0.576223\n",
       "TV           0.782224\n",
       "sales        1.000000\n",
       "Name: sales, dtype: float64"
      ]
     },
     "execution_count": 12,
     "metadata": {},
     "output_type": "execute_result"
    }
   ],
   "source": [
    "df.corr()['sales'].sort_values()"
   ]
  },
  {
   "cell_type": "code",
   "execution_count": 13,
   "id": "afd86e1d",
   "metadata": {},
   "outputs": [
    {
     "data": {
      "image/png": "[encoded data removed]",
      "text/plain": [
       "<Figure size 1008x504 with 1 Axes>"
      ]
     },
     "metadata": {
      "needs_background": "light"
     },
     "output_type": "display_data"
    }
   ],
   "source": [
    "plt.figure(figsize=(14,7))\n",
    "df.corr()['sales'].sort_values(ascending=False).drop(['sales']).plot(kind='bar',color='c')\n",
    "plt.xlabel('Attributes',fontsize=14)\n",
    "plt.ylabel('Columns With Target Names',fontsize=14)\n",
    "plt.title('Correlation',fontsize=18)\n",
    "plt.show()"
   ]
  },
  {
   "cell_type": "code",
   "execution_count": 14,
   "id": "bb2d0cfe",
   "metadata": {
    "scrolled": true
   },
   "outputs": [
    {
     "data": {
      "text/html": [
       "<div>\n",
       "<style scoped>\n",
       "    .dataframe tbody tr th:only-of-type {\n",
       "        vertical-align: middle;\n",
       "    }\n",
       "\n",
       "    .dataframe tbody tr th {\n",
       "        vertical-align: top;\n",
       "    }\n",
       "\n",
       "    .dataframe thead th {\n",
       "        text-align: right;\n",
       "    }\n",
       "</style>\n",
       "<table border=\"1\" class=\"dataframe\">\n",
       "  <thead>\n",
       "    <tr style=\"text-align: right;\">\n",
       "      <th></th>\n",
       "      <th>TV</th>\n",
       "      <th>radio</th>\n",
       "      <th>newspaper</th>\n",
       "      <th>sales</th>\n",
       "    </tr>\n",
       "  </thead>\n",
       "  <tbody>\n",
       "    <tr>\n",
       "      <th>0</th>\n",
       "      <td>230.1</td>\n",
       "      <td>37.8</td>\n",
       "      <td>69.2</td>\n",
       "      <td>22.1</td>\n",
       "    </tr>\n",
       "    <tr>\n",
       "      <th>1</th>\n",
       "      <td>44.5</td>\n",
       "      <td>39.3</td>\n",
       "      <td>45.1</td>\n",
       "      <td>10.4</td>\n",
       "    </tr>\n",
       "    <tr>\n",
       "      <th>2</th>\n",
       "      <td>17.2</td>\n",
       "      <td>45.9</td>\n",
       "      <td>69.3</td>\n",
       "      <td>9.3</td>\n",
       "    </tr>\n",
       "    <tr>\n",
       "      <th>3</th>\n",
       "      <td>151.5</td>\n",
       "      <td>41.3</td>\n",
       "      <td>58.5</td>\n",
       "      <td>18.5</td>\n",
       "    </tr>\n",
       "    <tr>\n",
       "      <th>4</th>\n",
       "      <td>180.8</td>\n",
       "      <td>10.8</td>\n",
       "      <td>58.4</td>\n",
       "      <td>12.9</td>\n",
       "    </tr>\n",
       "    <tr>\n",
       "      <th>...</th>\n",
       "      <td>...</td>\n",
       "      <td>...</td>\n",
       "      <td>...</td>\n",
       "      <td>...</td>\n",
       "    </tr>\n",
       "    <tr>\n",
       "      <th>195</th>\n",
       "      <td>38.2</td>\n",
       "      <td>3.7</td>\n",
       "      <td>13.8</td>\n",
       "      <td>7.6</td>\n",
       "    </tr>\n",
       "    <tr>\n",
       "      <th>196</th>\n",
       "      <td>94.2</td>\n",
       "      <td>4.9</td>\n",
       "      <td>8.1</td>\n",
       "      <td>9.7</td>\n",
       "    </tr>\n",
       "    <tr>\n",
       "      <th>197</th>\n",
       "      <td>177.0</td>\n",
       "      <td>9.3</td>\n",
       "      <td>6.4</td>\n",
       "      <td>12.8</td>\n",
       "    </tr>\n",
       "    <tr>\n",
       "      <th>198</th>\n",
       "      <td>283.6</td>\n",
       "      <td>42.0</td>\n",
       "      <td>66.2</td>\n",
       "      <td>25.5</td>\n",
       "    </tr>\n",
       "    <tr>\n",
       "      <th>199</th>\n",
       "      <td>232.1</td>\n",
       "      <td>8.6</td>\n",
       "      <td>8.7</td>\n",
       "      <td>13.4</td>\n",
       "    </tr>\n",
       "  </tbody>\n",
       "</table>\n",
       "<p>200 rows × 4 columns</p>\n",
       "</div>"
      ],
      "text/plain": [
       "        TV  radio  newspaper  sales\n",
       "0    230.1   37.8       69.2   22.1\n",
       "1     44.5   39.3       45.1   10.4\n",
       "2     17.2   45.9       69.3    9.3\n",
       "3    151.5   41.3       58.5   18.5\n",
       "4    180.8   10.8       58.4   12.9\n",
       "..     ...    ...        ...    ...\n",
       "195   38.2    3.7       13.8    7.6\n",
       "196   94.2    4.9        8.1    9.7\n",
       "197  177.0    9.3        6.4   12.8\n",
       "198  283.6   42.0       66.2   25.5\n",
       "199  232.1    8.6        8.7   13.4\n",
       "\n",
       "[200 rows x 4 columns]"
      ]
     },
     "execution_count": 14,
     "metadata": {},
     "output_type": "execute_result"
    }
   ],
   "source": [
    "df=df.drop(['S.No.'],axis=1)\n",
    "df"
   ]
  },
  {
   "cell_type": "code",
   "execution_count": 15,
   "id": "f80a56e2",
   "metadata": {},
   "outputs": [
    {
     "data": {
      "image/png": "[encoded data removed]",
      "text/plain": [
       "<Figure size 1008x360 with 4 Axes>"
      ]
     },
     "metadata": {
      "needs_background": "light"
     },
     "output_type": "display_data"
    }
   ],
   "source": [
    "df.plot(kind='density',subplots=True,layout=(1,4),sharex=False,fontsize=1,figsize=(14,5))\n",
    "plt.show()"
   ]
  },
  {
   "cell_type": "markdown",
   "id": "851be662",
   "metadata": {},
   "source": [
    "# Outliers:"
   ]
  },
  {
   "cell_type": "code",
   "execution_count": 16,
   "id": "43e21ab1",
   "metadata": {
    "scrolled": false
   },
   "outputs": [
    {
     "data": {
      "image/png": "[encoded data removed]",
      "text/plain": [
       "<Figure size 2160x6480 with 3 Axes>"
      ]
     },
     "metadata": {
      "needs_background": "light"
     },
     "output_type": "display_data"
    }
   ],
   "source": [
    "collist=df.columns.values\n",
    "ncol=30\n",
    "nrows=14\n",
    "plt.figure(figsize=(ncol,3*ncol))\n",
    "for i in range(0,len(collist)-1):\n",
    "    plt.subplot(nrows,ncol,i+1)\n",
    "    sns.boxplot(data=df[collist[i]],color='cyan',orient='v')\n",
    "    plt.tight_layout()"
   ]
  },
  {
   "cell_type": "code",
   "execution_count": 17,
   "id": "1f891f17",
   "metadata": {},
   "outputs": [
    {
     "data": {
      "text/plain": [
       "(200, 4)"
      ]
     },
     "execution_count": 17,
     "metadata": {},
     "output_type": "execute_result"
    }
   ],
   "source": [
    "from scipy.stats import zscore\n",
    "z=np.abs(zscore(df.iloc[:,:11]))\n",
    "z.shape"
   ]
  },
  {
   "cell_type": "code",
   "execution_count": 18,
   "id": "b79da681",
   "metadata": {},
   "outputs": [
    {
     "data": {
      "text/plain": [
       "(array([ 16, 101], dtype=int64), array([2, 2], dtype=int64))"
      ]
     },
     "execution_count": 18,
     "metadata": {},
     "output_type": "execute_result"
    }
   ],
   "source": [
    "threshold=3\n",
    "np.where(z>3)"
   ]
  },
  {
   "cell_type": "code",
   "execution_count": 19,
   "id": "eaf49078",
   "metadata": {},
   "outputs": [
    {
     "data": {
      "text/plain": [
       "2"
      ]
     },
     "execution_count": 19,
     "metadata": {},
     "output_type": "execute_result"
    }
   ],
   "source": [
    "len(np.where(z>3)[0])"
   ]
  },
  {
   "cell_type": "code",
   "execution_count": 20,
   "id": "3893f6d8",
   "metadata": {},
   "outputs": [],
   "source": [
    "df_new=df[(z<3).all(axis=1)]"
   ]
  },
  {
   "cell_type": "code",
   "execution_count": 21,
   "id": "93cc7e2c",
   "metadata": {},
   "outputs": [],
   "source": [
    "x=df_new.drop(['sales'],axis=1)\n",
    "y=df_new['sales']"
   ]
  },
  {
   "cell_type": "code",
   "execution_count": 22,
   "id": "6e7dd67f",
   "metadata": {},
   "outputs": [
    {
     "data": {
      "text/plain": [
       "TV          -0.082332\n",
       "radio        0.114842\n",
       "newspaper    0.650112\n",
       "dtype: float64"
      ]
     },
     "execution_count": 22,
     "metadata": {},
     "output_type": "execute_result"
    }
   ],
   "source": [
    "x.skew()"
   ]
  },
  {
   "cell_type": "code",
   "execution_count": 23,
   "id": "99830a86",
   "metadata": {},
   "outputs": [],
   "source": [
    "from sklearn.preprocessing import power_transform"
   ]
  },
  {
   "cell_type": "code",
   "execution_count": 24,
   "id": "6ffc1708",
   "metadata": {},
   "outputs": [],
   "source": [
    "x_new=power_transform(x)\n",
    "x=pd.DataFrame(x_new,columns=x.columns)"
   ]
  },
  {
   "cell_type": "code",
   "execution_count": 25,
   "id": "cd85336e",
   "metadata": {},
   "outputs": [
    {
     "data": {
      "text/plain": [
       "TV          -0.320682\n",
       "radio       -0.236668\n",
       "newspaper   -0.101288\n",
       "dtype: float64"
      ]
     },
     "execution_count": 25,
     "metadata": {},
     "output_type": "execute_result"
    }
   ],
   "source": [
    "x.skew()"
   ]
  },
  {
   "cell_type": "code",
   "execution_count": 26,
   "id": "195dcbd5",
   "metadata": {},
   "outputs": [
    {
     "name": "stdout",
     "output_type": "stream",
     "text": [
      "At random state 0,the training accuracy is:- 0.901291002097885\n",
      "At random state 0,the testing accuracy is:- 0.9153223525494354\n",
      "\n",
      "\n",
      "At random state 1,the training accuracy is:- 0.907560705387535\n",
      "At random state 1,the testing accuracy is:- 0.8899875371730132\n",
      "\n",
      "\n",
      "At random state 2,the training accuracy is:- 0.9145487608535885\n",
      "At random state 2,the testing accuracy is:- 0.8690670885581866\n",
      "\n",
      "\n",
      "At random state 3,the training accuracy is:- 0.9038683476410915\n",
      "At random state 3,the testing accuracy is:- 0.9094654993350766\n",
      "\n",
      "\n",
      "At random state 4,the training accuracy is:- 0.9080156627542778\n",
      "At random state 4,the testing accuracy is:- 0.8805025579845184\n",
      "\n",
      "\n",
      "At random state 5,the training accuracy is:- 0.9044410731238212\n",
      "At random state 5,the testing accuracy is:- 0.8945026194148485\n",
      "\n",
      "\n",
      "At random state 6,the training accuracy is:- 0.9071648377019736\n",
      "At random state 6,the testing accuracy is:- 0.8921657380222969\n",
      "\n",
      "\n",
      "At random state 7,the training accuracy is:- 0.9034105955818168\n",
      "At random state 7,the testing accuracy is:- 0.9083214353182578\n",
      "\n",
      "\n",
      "At random state 8,the training accuracy is:- 0.908562751611754\n",
      "At random state 8,the testing accuracy is:- 0.8853178974138565\n",
      "\n",
      "\n",
      "At random state 9,the training accuracy is:- 0.9023597451011641\n",
      "At random state 9,the testing accuracy is:- 0.912237358026819\n",
      "\n",
      "\n",
      "At random state 10,the training accuracy is:- 0.9256794776122023\n",
      "At random state 10,the testing accuracy is:- 0.8240271000975486\n",
      "\n",
      "\n",
      "At random state 11,the training accuracy is:- 0.8955368008631939\n",
      "At random state 11,the testing accuracy is:- 0.9323027961362416\n",
      "\n",
      "\n",
      "At random state 12,the training accuracy is:- 0.903289385712865\n",
      "At random state 12,the testing accuracy is:- 0.9090076724718209\n",
      "\n",
      "\n",
      "At random state 13,the training accuracy is:- 0.913578768471947\n",
      "At random state 13,the testing accuracy is:- 0.8647030765794432\n",
      "\n",
      "\n",
      "At random state 14,the training accuracy is:- 0.8990266863873638\n",
      "At random state 14,the testing accuracy is:- 0.9150911456757512\n",
      "\n",
      "\n",
      "At random state 15,the training accuracy is:- 0.9022375985711596\n",
      "At random state 15,the testing accuracy is:- 0.9133601161067448\n",
      "\n",
      "\n",
      "At random state 16,the training accuracy is:- 0.9016649377095218\n",
      "At random state 16,the testing accuracy is:- 0.9145663292536096\n",
      "\n",
      "\n",
      "At random state 17,the training accuracy is:- 0.9051915317193867\n",
      "At random state 17,the testing accuracy is:- 0.9009507724238696\n",
      "\n",
      "\n",
      "At random state 18,the training accuracy is:- 0.9159453992969762\n",
      "At random state 18,the testing accuracy is:- 0.8610034373772408\n",
      "\n",
      "\n",
      "At random state 19,the training accuracy is:- 0.9098958945807766\n",
      "At random state 19,the testing accuracy is:- 0.8552260567386738\n",
      "\n",
      "\n",
      "At random state 20,the training accuracy is:- 0.8974714268832219\n",
      "At random state 20,the testing accuracy is:- 0.920396898153733\n",
      "\n",
      "\n",
      "At random state 21,the training accuracy is:- 0.8973906661503068\n",
      "At random state 21,the testing accuracy is:- 0.9278974061992019\n",
      "\n",
      "\n",
      "At random state 22,the training accuracy is:- 0.9001304726424253\n",
      "At random state 22,the testing accuracy is:- 0.9208951970230006\n",
      "\n",
      "\n",
      "At random state 23,the training accuracy is:- 0.8982658998510373\n",
      "At random state 23,the testing accuracy is:- 0.9275235609491286\n",
      "\n",
      "\n",
      "At random state 24,the training accuracy is:- 0.894887816504894\n",
      "At random state 24,the testing accuracy is:- 0.9404645313166983\n",
      "\n",
      "\n",
      "At random state 25,the training accuracy is:- 0.8966415517744912\n",
      "At random state 25,the testing accuracy is:- 0.9332158436254716\n",
      "\n",
      "\n",
      "At random state 26,the training accuracy is:- 0.9117269728502922\n",
      "At random state 26,the testing accuracy is:- 0.8493162999703563\n",
      "\n",
      "\n",
      "At random state 27,the training accuracy is:- 0.9156567014224747\n",
      "At random state 27,the testing accuracy is:- 0.8461220328650049\n",
      "\n",
      "\n",
      "At random state 28,the training accuracy is:- 0.9194052486652297\n",
      "At random state 28,the testing accuracy is:- 0.8540027770273637\n",
      "\n",
      "\n",
      "At random state 29,the training accuracy is:- 0.9150133297832483\n",
      "At random state 29,the testing accuracy is:- 0.8651826160067964\n",
      "\n",
      "\n",
      "At random state 30,the training accuracy is:- 0.919114017540048\n",
      "At random state 30,the testing accuracy is:- 0.8468345231987906\n",
      "\n",
      "\n",
      "At random state 31,the training accuracy is:- 0.8943933226422129\n",
      "At random state 31,the testing accuracy is:- 0.9315839453507958\n",
      "\n",
      "\n",
      "At random state 32,the training accuracy is:- 0.898441613932287\n",
      "At random state 32,the testing accuracy is:- 0.9249198196359107\n",
      "\n",
      "\n",
      "At random state 33,the training accuracy is:- 0.9072960420357014\n",
      "At random state 33,the testing accuracy is:- 0.890231330064583\n",
      "\n",
      "\n",
      "At random state 34,the training accuracy is:- 0.9075448931300905\n",
      "At random state 34,the testing accuracy is:- 0.8849668540749823\n",
      "\n",
      "\n",
      "At random state 35,the training accuracy is:- 0.8974915451573894\n",
      "At random state 35,the testing accuracy is:- 0.9385999683961179\n",
      "\n",
      "\n",
      "At random state 36,the training accuracy is:- 0.9022545664368533\n",
      "At random state 36,the testing accuracy is:- 0.9125455902441196\n",
      "\n",
      "\n",
      "At random state 37,the training accuracy is:- 0.9024665380497792\n",
      "At random state 37,the testing accuracy is:- 0.9186110626326983\n",
      "\n",
      "\n",
      "At random state 38,the training accuracy is:- 0.9020939183128821\n",
      "At random state 38,the testing accuracy is:- 0.9165843765844757\n",
      "\n",
      "\n",
      "At random state 39,the training accuracy is:- 0.9096769483848226\n",
      "At random state 39,the testing accuracy is:- 0.8816308659010121\n",
      "\n",
      "\n",
      "At random state 40,the training accuracy is:- 0.9066035712911272\n",
      "At random state 40,the testing accuracy is:- 0.8901474491775202\n",
      "\n",
      "\n",
      "At random state 41,the training accuracy is:- 0.9084524814773396\n",
      "At random state 41,the testing accuracy is:- 0.8784668165937459\n",
      "\n",
      "\n",
      "At random state 42,the training accuracy is:- 0.9046797524787555\n",
      "At random state 42,the testing accuracy is:- 0.9037853658665029\n",
      "\n",
      "\n",
      "At random state 43,the training accuracy is:- 0.906284916634118\n",
      "At random state 43,the testing accuracy is:- 0.8967325225389982\n",
      "\n",
      "\n",
      "At random state 44,the training accuracy is:- 0.9070919178478469\n",
      "At random state 44,the testing accuracy is:- 0.8688030195986208\n",
      "\n",
      "\n",
      "At random state 45,the training accuracy is:- 0.9040652031111758\n",
      "At random state 45,the testing accuracy is:- 0.9057393659221862\n",
      "\n",
      "\n",
      "At random state 46,the training accuracy is:- 0.9088357852410767\n",
      "At random state 46,the testing accuracy is:- 0.8845202426181592\n",
      "\n",
      "\n",
      "At random state 47,the training accuracy is:- 0.9036099424414817\n",
      "At random state 47,the testing accuracy is:- 0.9066019878401181\n",
      "\n",
      "\n",
      "At random state 48,the training accuracy is:- 0.9104503572403473\n",
      "At random state 48,the testing accuracy is:- 0.8823951403048893\n",
      "\n",
      "\n",
      "At random state 49,the training accuracy is:- 0.9143897219263015\n",
      "At random state 49,the testing accuracy is:- 0.8651606940697212\n",
      "\n",
      "\n",
      "At random state 50,the training accuracy is:- 0.9104560728842174\n",
      "At random state 50,the testing accuracy is:- 0.8575174941501008\n",
      "\n",
      "\n",
      "At random state 51,the training accuracy is:- 0.9038241673846332\n",
      "At random state 51,the testing accuracy is:- 0.9031024394747437\n",
      "\n",
      "\n",
      "At random state 52,the training accuracy is:- 0.9054149654395894\n",
      "At random state 52,the testing accuracy is:- 0.8973908059193137\n",
      "\n",
      "\n",
      "At random state 53,the training accuracy is:- 0.9110496305098248\n",
      "At random state 53,the testing accuracy is:- 0.8741519881078036\n",
      "\n",
      "\n",
      "At random state 54,the training accuracy is:- 0.9087915036505674\n",
      "At random state 54,the testing accuracy is:- 0.8849009524636278\n",
      "\n",
      "\n",
      "At random state 55,the training accuracy is:- 0.9039936770919409\n",
      "At random state 55,the testing accuracy is:- 0.9047295196612014\n",
      "\n",
      "\n",
      "At random state 56,the training accuracy is:- 0.9088538574596642\n",
      "At random state 56,the testing accuracy is:- 0.8842792722037215\n",
      "\n",
      "\n",
      "At random state 57,the training accuracy is:- 0.9120663000203063\n",
      "At random state 57,the testing accuracy is:- 0.8788841180720129\n",
      "\n",
      "\n",
      "At random state 58,the training accuracy is:- 0.8976555316811166\n",
      "At random state 58,the testing accuracy is:- 0.9220833831899512\n",
      "\n",
      "\n",
      "At random state 59,the training accuracy is:- 0.9030357015265937\n",
      "At random state 59,the testing accuracy is:- 0.9058539111667334\n",
      "\n",
      "\n",
      "At random state 60,the training accuracy is:- 0.9060103435993259\n",
      "At random state 60,the testing accuracy is:- 0.8970435896150584\n",
      "\n",
      "\n",
      "At random state 61,the training accuracy is:- 0.9124675938583844\n",
      "At random state 61,the testing accuracy is:- 0.8721655938312861\n",
      "\n",
      "\n",
      "At random state 62,the training accuracy is:- 0.9095197139268838\n",
      "At random state 62,the testing accuracy is:- 0.8714441853690329\n",
      "\n",
      "\n",
      "At random state 63,the training accuracy is:- 0.905785351497562\n",
      "At random state 63,the testing accuracy is:- 0.8991990315403817\n",
      "\n",
      "\n",
      "At random state 64,the training accuracy is:- 0.9004774851126243\n",
      "At random state 64,the testing accuracy is:- 0.9182395751912219\n",
      "\n",
      "\n",
      "At random state 65,the training accuracy is:- 0.9111650166662695\n",
      "At random state 65,the testing accuracy is:- 0.8828154199531533\n",
      "\n",
      "\n",
      "At random state 66,the training accuracy is:- 0.9107653467082218\n",
      "At random state 66,the testing accuracy is:- 0.8812765930277345\n",
      "\n",
      "\n",
      "At random state 67,the training accuracy is:- 0.8983947994198249\n",
      "At random state 67,the testing accuracy is:- 0.9277726511999598\n",
      "\n",
      "\n",
      "At random state 68,the training accuracy is:- 0.9107068917756588\n",
      "At random state 68,the testing accuracy is:- 0.881479810441061\n",
      "\n",
      "\n",
      "At random state 69,the training accuracy is:- 0.9056183846633148\n",
      "At random state 69,the testing accuracy is:- 0.899092860840367\n",
      "\n",
      "\n",
      "At random state 70,the training accuracy is:- 0.8982814621765595\n",
      "At random state 70,the testing accuracy is:- 0.9181730549508992\n",
      "\n",
      "\n",
      "At random state 71,the training accuracy is:- 0.91196390382557\n",
      "At random state 71,the testing accuracy is:- 0.8593064528492893\n",
      "\n",
      "\n",
      "At random state 72,the training accuracy is:- 0.9049017800415127\n",
      "At random state 72,the testing accuracy is:- 0.902721132753486\n",
      "\n",
      "\n",
      "At random state 73,the training accuracy is:- 0.9056791727496029\n",
      "At random state 73,the testing accuracy is:- 0.8957572280283305\n",
      "\n",
      "\n"
     ]
    },
    {
     "name": "stdout",
     "output_type": "stream",
     "text": [
      "At random state 74,the training accuracy is:- 0.8889000730282358\n",
      "At random state 74,the testing accuracy is:- 0.9274069162246448\n",
      "\n",
      "\n",
      "At random state 75,the training accuracy is:- 0.9070384634175925\n",
      "At random state 75,the testing accuracy is:- 0.8785527905964945\n",
      "\n",
      "\n",
      "At random state 76,the training accuracy is:- 0.9105607876343562\n",
      "At random state 76,the testing accuracy is:- 0.8755117807373418\n",
      "\n",
      "\n",
      "At random state 77,the training accuracy is:- 0.9005925407589889\n",
      "At random state 77,the testing accuracy is:- 0.9179516947889472\n",
      "\n",
      "\n",
      "At random state 78,the training accuracy is:- 0.9145141190945101\n",
      "At random state 78,the testing accuracy is:- 0.8456080844762168\n",
      "\n",
      "\n",
      "At random state 79,the training accuracy is:- 0.9034230169686297\n",
      "At random state 79,the testing accuracy is:- 0.9032665890079107\n",
      "\n",
      "\n",
      "At random state 80,the training accuracy is:- 0.9024426012918224\n",
      "At random state 80,the testing accuracy is:- 0.9135037189645718\n",
      "\n",
      "\n",
      "At random state 81,the training accuracy is:- 0.900827456789431\n",
      "At random state 81,the testing accuracy is:- 0.9187757950146938\n",
      "\n",
      "\n",
      "At random state 82,the training accuracy is:- 0.9197224738343049\n",
      "At random state 82,the testing accuracy is:- 0.8443733434529911\n",
      "\n",
      "\n",
      "At random state 83,the training accuracy is:- 0.9106876216578011\n",
      "At random state 83,the testing accuracy is:- 0.8882813731213719\n",
      "\n",
      "\n",
      "At random state 84,the training accuracy is:- 0.8994929429676539\n",
      "At random state 84,the testing accuracy is:- 0.9193061837464455\n",
      "\n",
      "\n",
      "At random state 85,the training accuracy is:- 0.9147115487418627\n",
      "At random state 85,the testing accuracy is:- 0.823453851083247\n",
      "\n",
      "\n",
      "At random state 86,the training accuracy is:- 0.9048952586548158\n",
      "At random state 86,the testing accuracy is:- 0.903574268482079\n",
      "\n",
      "\n",
      "At random state 87,the training accuracy is:- 0.9146434182473266\n",
      "At random state 87,the testing accuracy is:- 0.8588374474929139\n",
      "\n",
      "\n",
      "At random state 88,the training accuracy is:- 0.9034623532481936\n",
      "At random state 88,the testing accuracy is:- 0.9107406429945287\n",
      "\n",
      "\n",
      "At random state 89,the training accuracy is:- 0.9118911984505276\n",
      "At random state 89,the testing accuracy is:- 0.8597757729358095\n",
      "\n",
      "\n",
      "At random state 90,the training accuracy is:- 0.8916041936466815\n",
      "At random state 90,the testing accuracy is:- 0.94733623324414\n",
      "\n",
      "\n",
      "At random state 91,the training accuracy is:- 0.9047629406127735\n",
      "At random state 91,the testing accuracy is:- 0.9001356159950383\n",
      "\n",
      "\n",
      "At random state 92,the training accuracy is:- 0.9088202099276396\n",
      "At random state 92,the testing accuracy is:- 0.885822053026922\n",
      "\n",
      "\n",
      "At random state 93,the training accuracy is:- 0.9151854410661746\n",
      "At random state 93,the testing accuracy is:- 0.8637155302435191\n",
      "\n",
      "\n",
      "At random state 94,the training accuracy is:- 0.9110475226719051\n",
      "At random state 94,the testing accuracy is:- 0.8852436435500094\n",
      "\n",
      "\n",
      "At random state 95,the training accuracy is:- 0.9132516219536359\n",
      "At random state 95,the testing accuracy is:- 0.8731956301728425\n",
      "\n",
      "\n",
      "At random state 96,the training accuracy is:- 0.9112636342311893\n",
      "At random state 96,the testing accuracy is:- 0.8704465516960881\n",
      "\n",
      "\n",
      "At random state 97,the training accuracy is:- 0.9027328624671185\n",
      "At random state 97,the testing accuracy is:- 0.9126335764750966\n",
      "\n",
      "\n",
      "At random state 98,the training accuracy is:- 0.9122144457635871\n",
      "At random state 98,the testing accuracy is:- 0.8704532222916823\n",
      "\n",
      "\n",
      "At random state 99,the training accuracy is:- 0.8953616294800109\n",
      "At random state 99,the testing accuracy is:- 0.9312602169950901\n",
      "\n",
      "\n",
      "Best accuracy:  0.94733623324414  on Random State:  90\n"
     ]
    }
   ],
   "source": [
    "from sklearn.linear_model import LinearRegression\n",
    "from sklearn.model_selection import train_test_split\n",
    "from sklearn.metrics import r2_score\n",
    "lr=LinearRegression()\n",
    "\n",
    "maxAcc=0\n",
    "maxRS=0\n",
    "for i in range(0,100):\n",
    "    features_train,features_test,target_train,target_test=train_test_split(x,y,test_size=.20,random_state=i)\n",
    "    lr.fit(features_train,target_train)\n",
    "    pred_train=lr.predict(features_train)\n",
    "    pred_test=lr.predict(features_test)\n",
    "    print(f\"At random state {i},the training accuracy is:- {r2_score(target_train,pred_train)}\")\n",
    "    print(f\"At random state {i},the testing accuracy is:- {r2_score(target_test,pred_test)}\")\n",
    "    print('\\n')\n",
    "    acc=r2_score(target_test,pred_test)\n",
    "    if(acc>maxAcc):\n",
    "        maxAcc=acc\n",
    "        maxRS=i\n",
    "print(\"Best accuracy: \",maxAcc,\" on Random State: \",maxRS)"
   ]
  },
  {
   "cell_type": "code",
   "execution_count": 27,
   "id": "c3345fd1",
   "metadata": {},
   "outputs": [
    {
     "name": "stdout",
     "output_type": "stream",
     "text": [
      "Accuracy 93.12602169950901\n"
     ]
    }
   ],
   "source": [
    "lr.fit(features_train,target_train)\n",
    "pred_test=lr.predict(features_test)\n",
    "print('Accuracy',r2_score(target_test,pred_test)*100)"
   ]
  },
  {
   "cell_type": "code",
   "execution_count": 28,
   "id": "5b0e6ce0",
   "metadata": {
    "scrolled": true
   },
   "outputs": [
    {
     "name": "stdout",
     "output_type": "stream",
     "text": [
      "Best accuracy:  98.06 % on Random State:  38\n"
     ]
    }
   ],
   "source": [
    "from sklearn.tree import DecisionTreeRegressor\n",
    "dt=DecisionTreeRegressor()\n",
    "\n",
    "maxAcc=0\n",
    "maxRS=0\n",
    "for i in range(0,100):\n",
    "    features_train,features_test,target_train,target_test=train_test_split(x,y,test_size=.20,random_state=i)\n",
    "    dt.fit(features_train,target_train)\n",
    "    pred_train=dt.predict(features_train)\n",
    "    pred_test=dt.predict(features_test)\n",
    "    acc=r2_score(target_test,pred_test)\n",
    "    if(acc>maxAcc):\n",
    "        maxAcc=acc\n",
    "        maxRS=i\n",
    "print(\"Best accuracy: \",round(maxAcc*100,2),\"% on Random State: \",maxRS)"
   ]
  },
  {
   "cell_type": "code",
   "execution_count": 29,
   "id": "c1d1eb2e",
   "metadata": {},
   "outputs": [
    {
     "name": "stdout",
     "output_type": "stream",
     "text": [
      "Best accuracy:  98.88 % on Random State:  81\n"
     ]
    }
   ],
   "source": [
    "from sklearn.ensemble import RandomForestRegressor\n",
    "rf=RandomForestRegressor()\n",
    "\n",
    "maxAcc=0\n",
    "maxRS=0\n",
    "for i in range(0,100):\n",
    "    features_train,features_test,target_train,target_test=train_test_split(x,y,test_size=.20,random_state=i)\n",
    "    rf.fit(features_train,target_train)\n",
    "    pred_train=rf.predict(features_train)\n",
    "    pred_test=rf.predict(features_test)\n",
    "    acc=r2_score(target_test,pred_test)\n",
    "    if(acc>maxAcc):\n",
    "        maxAcc=acc\n",
    "        maxRS=i\n",
    "print(\"Best accuracy: \",round(maxAcc*100,2),\"% on Random State: \",maxRS)"
   ]
  },
  {
   "cell_type": "code",
   "execution_count": 30,
   "id": "acc834e4",
   "metadata": {},
   "outputs": [],
   "source": [
    "features_train,features_test,target_train,target_test=train_test_split(x,y,test_size=.20,random_state=81)"
   ]
  },
  {
   "cell_type": "code",
   "execution_count": 31,
   "id": "a29691e9",
   "metadata": {},
   "outputs": [
    {
     "name": "stdout",
     "output_type": "stream",
     "text": [
      "Accuracy 99.42431950969328\n"
     ]
    }
   ],
   "source": [
    "pred_test=rf.predict(features_test)\n",
    "print('Accuracy',r2_score(target_test,pred_test)*100)"
   ]
  },
  {
   "cell_type": "markdown",
   "id": "fa6def53",
   "metadata": {},
   "source": [
    "RandomForestRegressor has the highest accuracy."
   ]
  },
  {
   "cell_type": "markdown",
   "id": "83013c29",
   "metadata": {},
   "source": [
    "# Cross Validation:"
   ]
  },
  {
   "cell_type": "code",
   "execution_count": 32,
   "id": "6d48f4cf",
   "metadata": {
    "scrolled": true
   },
   "outputs": [
    {
     "name": "stdout",
     "output_type": "stream",
     "text": [
      "At Cross fold 2 cv score:0.9713620380275862 Accuracy Training: -1.0816014711676618 Accuracy Testing:0.9942431950969327\n",
      "\n",
      "\n",
      "At Cross fold 3 cv score:0.9752557857193178 Accuracy Training: -1.0816014711676618 Accuracy Testing:0.9942431950969327\n",
      "\n",
      "\n",
      "At Cross fold 4 cv score:0.9766633011375334 Accuracy Training: -1.0816014711676618 Accuracy Testing:0.9942431950969327\n",
      "\n",
      "\n",
      "At Cross fold 5 cv score:0.9770848632959556 Accuracy Training: -1.0816014711676618 Accuracy Testing:0.9942431950969327\n",
      "\n",
      "\n",
      "At Cross fold 6 cv score:0.9771547646555782 Accuracy Training: -1.0816014711676618 Accuracy Testing:0.9942431950969327\n",
      "\n",
      "\n",
      "At Cross fold 7 cv score:0.9777034489180808 Accuracy Training: -1.0816014711676618 Accuracy Testing:0.9942431950969327\n",
      "\n",
      "\n",
      "At Cross fold 8 cv score:0.9783234121922829 Accuracy Training: -1.0816014711676618 Accuracy Testing:0.9942431950969327\n",
      "\n",
      "\n",
      "At Cross fold 9 cv score:0.9784879426132377 Accuracy Training: -1.0816014711676618 Accuracy Testing:0.9942431950969327\n",
      "\n",
      "\n"
     ]
    }
   ],
   "source": [
    "train_acc=r2_score(target_train,pred_train)\n",
    "test_acc=r2_score(target_test,pred_test)\n",
    "from sklearn.model_selection import cross_val_score\n",
    "for j in range(2,10):\n",
    "    cv_score=cross_val_score(rf,x,y,cv=j)\n",
    "    cv_mean=cv_score.mean()\n",
    "    print(f\"At Cross fold {j} cv score:{cv_mean} Accuracy Training: {train_acc} Accuracy Testing:{test_acc}\")\n",
    "    print('\\n')"
   ]
  },
  {
   "cell_type": "code",
   "execution_count": 33,
   "id": "358aafeb",
   "metadata": {},
   "outputs": [
    {
     "data": {
      "image/png": "[encoded data removed]",
      "text/plain": [
       "<Figure size 576x432 with 1 Axes>"
      ]
     },
     "metadata": {
      "needs_background": "light"
     },
     "output_type": "display_data"
    }
   ],
   "source": [
    "import matplotlib.pyplot as plt\n",
    "plt.figure(figsize=(8,6))\n",
    "plt.scatter(x=target_test,y=pred_test,color='r')\n",
    "plt.plot(target_test,target_test,color='b')\n",
    "plt.xlabel('Actual Sales',fontsize=14)\n",
    "plt.ylabel('Predicted Sales',fontsize=14)\n",
    "plt.title('Linear Regression',fontsize=18)\n",
    "plt.show()"
   ]
  },
  {
   "cell_type": "code",
   "execution_count": 34,
   "id": "dfdf533f",
   "metadata": {},
   "outputs": [
    {
     "name": "stdout",
     "output_type": "stream",
     "text": [
      "{'alpha': 0.1, 'random_state': 0}\n"
     ]
    }
   ],
   "source": [
    "from sklearn.linear_model import Lasso\n",
    "from sklearn.model_selection import GridSearchCV\n",
    "parameters={'alpha':[0.0001,0.001,0.01,0.1,1,10],\n",
    "            'random_state':list(range(0,10))}\n",
    "ls=Lasso()\n",
    "clf=GridSearchCV(ls,parameters)\n",
    "clf.fit(features_train,target_train)\n",
    "print(clf.best_params_)"
   ]
  },
  {
   "cell_type": "code",
   "execution_count": 37,
   "id": "ff18ab27",
   "metadata": {},
   "outputs": [
    {
     "data": {
      "text/plain": [
       "89.99117845685076"
      ]
     },
     "execution_count": 37,
     "metadata": {},
     "output_type": "execute_result"
    }
   ],
   "source": [
    "ls=Lasso(alpha=0.1,random_state=0)\n",
    "ls.fit(features_train,target_train)\n",
    "ls_score_training=ls.score(features_train,target_train)\n",
    "pred_ls=ls.predict(features_test)\n",
    "ls_score_training*100"
   ]
  },
  {
   "cell_type": "code",
   "execution_count": 38,
   "id": "4132c775",
   "metadata": {},
   "outputs": [
    {
     "name": "stdout",
     "output_type": "stream",
     "text": [
      "91.98 %\n"
     ]
    }
   ],
   "source": [
    "pred_ls=ls.predict(features_test)\n",
    "lss=r2_score(target_test,pred_ls)\n",
    "print(round(lss*100,2),'%')"
   ]
  },
  {
   "cell_type": "code",
   "execution_count": 39,
   "id": "3b5a9cdb",
   "metadata": {},
   "outputs": [
    {
     "name": "stdout",
     "output_type": "stream",
     "text": [
      "90.15 %\n"
     ]
    }
   ],
   "source": [
    "cv_score=cross_val_score(ls,x,y,cv=2)\n",
    "cv_mean=cv_score.mean()\n",
    "print(round(cv_mean*100,2),'%')"
   ]
  },
  {
   "cell_type": "markdown",
   "id": "9695c110",
   "metadata": {},
   "source": [
    "# Ensemble Technique"
   ]
  },
  {
   "cell_type": "code",
   "execution_count": 40,
   "id": "c790ec8a",
   "metadata": {},
   "outputs": [
    {
     "name": "stdout",
     "output_type": "stream",
     "text": [
      "{'criterion': 'mae', 'max_features': 'auto'}\n"
     ]
    }
   ],
   "source": [
    "parameters={'criterion':['mse','mae'],'max_features':['auto','sqrt','log2']}\n",
    "rf=RandomForestRegressor()\n",
    "clf=GridSearchCV(rf,parameters)\n",
    "clf.fit(features_train,target_train)\n",
    "print(clf.best_params_)"
   ]
  },
  {
   "cell_type": "code",
   "execution_count": 41,
   "id": "a891d3e9",
   "metadata": {},
   "outputs": [
    {
     "name": "stdout",
     "output_type": "stream",
     "text": [
      "R2 Score: 98.81237272459798\n",
      "Cross Validation Score: 97.71056010866914\n"
     ]
    }
   ],
   "source": [
    "rf=RandomForestRegressor(criterion='mae',max_features='auto')\n",
    "rf.fit(features_train,target_train)\n",
    "rf.score(features_train,target_train)\n",
    "pred_decision=rf.predict(features_test)\n",
    "\n",
    "rfs=r2_score(target_test,pred_decision)\n",
    "print(\"R2 Score:\",rfs*100)\n",
    "\n",
    "rfscore=cross_val_score(rf,x,y,cv=5)\n",
    "rfc=rfscore.mean()\n",
    "print('Cross Validation Score:',rfc*100)"
   ]
  },
  {
   "cell_type": "markdown",
   "id": "7ee3ea3b",
   "metadata": {},
   "source": [
    "# Saving Model"
   ]
  },
  {
   "cell_type": "code",
   "execution_count": 42,
   "id": "3ecbb510",
   "metadata": {},
   "outputs": [
    {
     "data": {
      "text/plain": [
       "['Advertising Sales Prediction.pkl']"
      ]
     },
     "execution_count": 42,
     "metadata": {},
     "output_type": "execute_result"
    }
   ],
   "source": [
    "import joblib\n",
    "joblib.dump(rf,'Advertising Sales Prediction.pkl')"
   ]
  }
 ],
 "metadata": {
  "kernelspec": {
   "display_name": "Python 3 (ipykernel)",
   "language": "python",
   "name": "python3"
  },
  "language_info": {
   "codemirror_mode": {
    "name": "ipython",
    "version": 3
   },
   "file_extension": ".py",
   "mimetype": "text/x-python",
   "name": "python",
   "nbconvert_exporter": "python",
   "pygments_lexer": "ipython3",
   "version": "3.9.7"
  }
 },
 "nbformat": 4,
 "nbformat_minor": 5
}
